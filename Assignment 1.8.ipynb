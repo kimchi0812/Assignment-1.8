{
 "cells": [
  {
   "cell_type": "code",
   "execution_count": 2,
   "id": "198d63e4-999e-4f41-8dfe-4f4d56e7f41d",
   "metadata": {},
   "outputs": [],
   "source": [
    "#**Question1: How do you select rows from a DataFrame where any value in the row exceeds a threshold?**\n",
    "\n",
    "import pandas as pd"
   ]
  },
  {
   "cell_type": "code",
   "execution_count": 3,
   "id": "f85dd47a-a1e5-48e0-a924-815d1f9e070c",
   "metadata": {},
   "outputs": [],
   "source": [
    "df = pd.DataFrame({'A': [1, 2, 3, 4, 5], 'B': [10, 20, 30, 40, 50]})\n",
    "threshold = 30"
   ]
  },
  {
   "cell_type": "code",
   "execution_count": 4,
   "id": "d1b0bc16-9684-4e3c-835a-37d8a79982fa",
   "metadata": {},
   "outputs": [],
   "source": [
    "filtered_df = df[df.gt(threshold).any(axis=1)]"
   ]
  },
  {
   "cell_type": "code",
   "execution_count": 5,
   "id": "87f52265-b527-4f9d-a1e0-e32f3d48c54f",
   "metadata": {},
   "outputs": [
    {
     "name": "stdout",
     "output_type": "stream",
     "text": [
      "   A   B\n",
      "3  4  40\n",
      "4  5  50\n"
     ]
    }
   ],
   "source": [
    "print(filtered_df)"
   ]
  },
  {
   "cell_type": "code",
   "execution_count": 6,
   "id": "e0f63469-d0a8-4efa-8def-42f0931bbdf0",
   "metadata": {},
   "outputs": [],
   "source": [
    "#**Question2: How do you sort a DataFrame by columns A and B?**\n",
    "\n",
    "df = pd.DataFrame({'A': [2, 1, 2], 'B': [2, 3, 1], 'C': [1, 2, 3]})\n"
   ]
  },
  {
   "cell_type": "code",
   "execution_count": 7,
   "id": "a34b5bf7-98d3-4d14-95fc-37ceb4ec61cf",
   "metadata": {},
   "outputs": [],
   "source": [
    "sorted_df = df.sort_values(by=['A', 'B'])\n"
   ]
  },
  {
   "cell_type": "code",
   "execution_count": 8,
   "id": "51b9e6d2-186a-483d-a41e-2fa5692fb334",
   "metadata": {},
   "outputs": [
    {
     "name": "stdout",
     "output_type": "stream",
     "text": [
      "   A  B  C\n",
      "1  1  3  2\n",
      "2  2  1  3\n",
      "0  2  2  1\n"
     ]
    }
   ],
   "source": [
    "print(sorted_df)"
   ]
  },
  {
   "cell_type": "code",
   "execution_count": 10,
   "id": "0e2b68f7-c6f1-426e-8db4-fc2f62f8d602",
   "metadata": {},
   "outputs": [],
   "source": [
    "#** Question 3: How do you concatenate two DataFrames vertically?**\n",
    "df1 = pd.DataFrame({'A': [1, 2, 3], 'B': [4, 5, 6]})\n",
    "df2 = pd.DataFrame({'A': [7, 8, 9], 'B': [10, 11, 12]})"
   ]
  },
  {
   "cell_type": "code",
   "execution_count": 11,
   "id": "ca24117d-8450-4d4a-a4e1-1007c44bb86b",
   "metadata": {},
   "outputs": [],
   "source": [
    "result = pd.concat([df1, df2], axis=0, ignore_index=True)"
   ]
  },
  {
   "cell_type": "code",
   "execution_count": 12,
   "id": "a97b4f16-eda5-41c8-9f79-d39089b92d7a",
   "metadata": {},
   "outputs": [
    {
     "name": "stdout",
     "output_type": "stream",
     "text": [
      "   A   B\n",
      "0  1   4\n",
      "1  2   5\n",
      "2  3   6\n",
      "3  7  10\n",
      "4  8  11\n",
      "5  9  12\n"
     ]
    }
   ],
   "source": [
    "print(result)"
   ]
  },
  {
   "cell_type": "code",
   "execution_count": 13,
   "id": "b6147f07-9f31-43b9-8608-a3d99c2589a1",
   "metadata": {},
   "outputs": [],
   "source": [
    "#** Question 4: How do you compute the cumulative sum of a column in a DataFrame?**\n",
    "df = pd.DataFrame({'A': [1, 2, 3, 4, 5]})"
   ]
  },
  {
   "cell_type": "code",
   "execution_count": 14,
   "id": "892b796c-9d0f-40e2-9064-ff105d48ae30",
   "metadata": {},
   "outputs": [],
   "source": [
    "df['Cumulative_Sum'] = df['A'].cumsum()\n"
   ]
  },
  {
   "cell_type": "code",
   "execution_count": 15,
   "id": "d8aac71e-a8d8-4171-9e26-bebbec3b2735",
   "metadata": {},
   "outputs": [
    {
     "name": "stdout",
     "output_type": "stream",
     "text": [
      "   A  Cumulative_Sum\n",
      "0  1               1\n",
      "1  2               3\n",
      "2  3               6\n",
      "3  4              10\n",
      "4  5              15\n"
     ]
    }
   ],
   "source": [
    "print(df)"
   ]
  },
  {
   "cell_type": "code",
   "execution_count": 16,
   "id": "beaaa0c0-b209-4feb-9c03-a5fc9e02d02b",
   "metadata": {},
   "outputs": [],
   "source": [
    "# ** Question 5: How do you convert a Series of strings to uppercase?**\n",
    "series = pd.Series(['apple', 'banana', 'cherry'])"
   ]
  },
  {
   "cell_type": "code",
   "execution_count": 17,
   "id": "fd6361d2-61bc-491d-a6ae-37ee3c0a3288",
   "metadata": {},
   "outputs": [],
   "source": [
    "uppercase_series = series.str.upper()"
   ]
  },
  {
   "cell_type": "code",
   "execution_count": 18,
   "id": "a5bc1a9e-c342-44a5-838b-a1f0e7e4d36d",
   "metadata": {},
   "outputs": [
    {
     "name": "stdout",
     "output_type": "stream",
     "text": [
      "0     APPLE\n",
      "1    BANANA\n",
      "2    CHERRY\n",
      "dtype: object\n"
     ]
    }
   ],
   "source": [
    "print(uppercase_series)"
   ]
  }
 ],
 "metadata": {
  "kernelspec": {
   "display_name": "Python 3 (ipykernel)",
   "language": "python",
   "name": "python3"
  },
  "language_info": {
   "codemirror_mode": {
    "name": "ipython",
    "version": 3
   },
   "file_extension": ".py",
   "mimetype": "text/x-python",
   "name": "python",
   "nbconvert_exporter": "python",
   "pygments_lexer": "ipython3",
   "version": "3.10.16"
  }
 },
 "nbformat": 4,
 "nbformat_minor": 5
}
